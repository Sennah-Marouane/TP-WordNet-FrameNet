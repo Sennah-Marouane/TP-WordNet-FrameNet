{
 "cells": [
  {
   "cell_type": "markdown",
   "id": "080e2a04",
   "metadata": {},
   "source": [
    "<table style=\"width:100%; background-color:white;\">\n",
    "<tr>\n",
    "    <td style=\"width:33%; text-align:center;\">\n",
    "       <br><br><br><br> <br><br><br><br><br>Réalisé par :<br>\n",
    "        Marouane Sennah<br>\n",
    "        Sofia Fennich<br>\n",
    "        \n",
    "    </td>\n",
    "    <td style=\"width:34%; text-align:center; vertical-align:middle;\">\n",
    "        <h2 style=\"font-weight:bold; margin-bottom:20px;\">TD : WordNet-FrameNet</h2>\n",
    "    </td>\n",
    "    <td style=\"width:33%; text-align:center;\">\n",
    "        Sous la supervision de :<br>\n",
    "        Monsieur Khalfi\n",
    "    </td>\n",
    "</tr>\n",
    "</table>\n"
   ]
  },
  {
   "cell_type": "markdown",
   "id": "d8288457",
   "metadata": {},
   "source": [
    "## Question 1: Write a Python script to obtain all synsets of the noun 'resistance'."
   ]
  },
  {
   "cell_type": "code",
   "execution_count": 1,
   "id": "f854f985",
   "metadata": {},
   "outputs": [
    {
     "name": "stdout",
     "output_type": "stream",
     "text": [
      "[Synset('resistance.n.01'), Synset('resistance.n.02'), Synset('electric_resistance.n.01'), Synset('resistance.n.04'), Synset('immunity.n.02'), Synset('resistance.n.06'), Synset('underground.n.01'), Synset('resistance.n.08'), Synset('resistance.n.09'), Synset('resistor.n.01'), Synset('resistance.n.11')]\n"
     ]
    }
   ],
   "source": [
    "from nltk.corpus import wordnet\n",
    "\n",
    "# This function retrieves all synsets associated with the noun form of the given word.\n",
    "def get_synsets(word):\n",
    "    # The pos=wordnet.NOUN argument specifies that we are only interested in noun synsets.\n",
    "    return wordnet.synsets(word, pos=wordnet.NOUN)\n",
    "\n",
    "# Example usage:\n",
    "# Call the function with 'resistance' to get all noun synsets for the word.\n",
    "resistance_synsets = get_synsets('resistance')\n",
    "print(resistance_synsets)"
   ]
  },
  {
   "cell_type": "markdown",
   "id": "29d24bb3",
   "metadata": {},
   "source": [
    "## Question 2: Write a function that takes a synset as a parameter and returns the list of words contained in the synset."
   ]
  },
  {
   "cell_type": "code",
   "execution_count": 2,
   "id": "7bc20055",
   "metadata": {},
   "outputs": [
    {
     "name": "stdout",
     "output_type": "stream",
     "text": [
      "['resistance', 'opposition']\n",
      "['resistance']\n",
      "['electric_resistance', 'electrical_resistance', 'impedance', 'resistance', 'resistivity', 'ohmic_resistance']\n",
      "['resistance']\n",
      "['immunity', 'resistance']\n",
      "['resistance']\n",
      "['underground', 'resistance']\n",
      "['resistance']\n",
      "['resistance']\n",
      "['resistor', 'resistance']\n",
      "['resistance']\n"
     ]
    }
   ],
   "source": [
    "# This function takes a synset and returns the list of words (lemmas) associated with it.\n",
    "def get_words_from_synset(synset):\n",
    "    # synset.lemmas() returns all lemmas for the synset.\n",
    "    # lemma.name() returns the word for each lemma.\n",
    "    return [lemma.name() for lemma in synset.lemmas()]\n",
    "\n",
    "# Example usage:\n",
    "# Using a loop to get words from each synset obtained in Question 1.\n",
    "for synset in resistance_synsets:\n",
    "    print(get_words_from_synset(synset))"
   ]
  },
  {
   "cell_type": "markdown",
   "id": "73987742",
   "metadata": {},
   "source": [
    "## Question 3: Write a function that takes a synset as a parameter and returns the list of its hypernyms (the words contained in the hypernym synsets)."
   ]
  },
  {
   "cell_type": "code",
   "execution_count": 3,
   "id": "94ace03e",
   "metadata": {},
   "outputs": [
    {
     "name": "stdout",
     "output_type": "stream",
     "text": [
      "[Synset('action.n.01')]\n",
      "[Synset('mechanical_phenomenon.n.01')]\n",
      "[Synset('electrical_phenomenon.n.01')]\n",
      "[Synset('military_action.n.01')]\n",
      "[Synset('condition.n.01')]\n",
      "[Synset('capability.n.02')]\n",
      "[Synset('revolutionary_group.n.01')]\n",
      "[Synset('unresponsiveness.n.01')]\n",
      "[Synset('unwillingness.n.01')]\n",
      "[Synset('electrical_device.n.01')]\n",
      "[Synset('group_action.n.01')]\n"
     ]
    }
   ],
   "source": [
    "# This function retrieves the hypernyms of the given synset.\n",
    "def get_hypernyms(synset):\n",
    "    # synset.hypernyms() returns a list of the synset's hypernyms.\n",
    "    return synset.hypernyms()\n",
    "\n",
    "# Example usage:\n",
    "# For each synset, get its hypernyms.\n",
    "for synset in resistance_synsets:\n",
    "    print(get_hypernyms(synset))"
   ]
  },
  {
   "cell_type": "markdown",
   "id": "19786d58",
   "metadata": {},
   "source": [
    "## Question 4: Write a function that takes a synset as a parameter and returns the list of hyponyms of its hypernyms."
   ]
  },
  {
   "cell_type": "code",
   "execution_count": 4,
   "id": "0664b5cf",
   "metadata": {},
   "outputs": [
    {
     "name": "stdout",
     "output_type": "stream",
     "text": [
      "[Synset('accomplishment.n.01'), Synset('aggression.n.03'), Synset('alienation.n.04'), Synset('application.n.07'), Synset('arrival.n.02'), Synset('beatification.n.02'), Synset('bruxism.n.01'), Synset('change.n.03'), Synset('choice.n.02'), Synset('course.n.04'), Synset('destabilization.n.02'), Synset('economy.n.04'), Synset('emphasizing.n.01'), Synset('employment.n.03'), Synset('fetch.n.01'), Synset('interaction.n.01'), Synset('jumpstart.n.01'), Synset('kindness.n.03'), Synset('performance.n.03'), Synset('pickings.n.01'), Synset('play.n.17'), Synset('playing.n.02'), Synset('politeness.n.02'), Synset('prohibition.n.05'), Synset('reference.n.07'), Synset('res_gestae.n.02'), Synset('resistance.n.01'), Synset('reverence.n.03'), Synset('stupefaction.n.03'), Synset('thing.n.02'), Synset('transfusion.n.02'), Synset('transgression.n.03'), Synset('vampirism.n.02')]\n",
      "[Synset('inertia.n.02'), Synset('leverage.n.01'), Synset('resistance.n.02'), Synset('sound.n.03'), Synset('trajectory.n.01')]\n",
      "[Synset('amperage.n.01'), Synset('capacitance.n.01'), Synset('charge.n.04'), Synset('conductance.n.01'), Synset('current.n.01'), Synset('dielectric_heating.n.01'), Synset('distortion.n.04'), Synset('elastance.n.01'), Synset('electric_potential.n.01'), Synset('electric_resistance.n.01'), Synset('electrical_disturbance.n.01'), Synset('induction.n.02'), Synset('pyroelectricity.n.01'), Synset('reactance.n.01'), Synset('reluctance.n.01'), Synset('skin_effect.n.01'), Synset('voltage.n.01')]\n",
      "[Synset('amphibious_landing.n.01'), Synset('battle.n.01'), Synset('blockade.n.01'), Synset('defense.n.01'), Synset('electronic_warfare.n.01'), Synset('police_action.n.01'), Synset('resistance.n.04'), Synset('saber_rattling.n.01'), Synset('sortie.n.01'), Synset('war.n.01')]\n",
      "[Synset('absolution.n.01'), Synset('anchorage.n.01'), Synset('astigmatism.n.02'), Synset('atmosphere.n.01'), Synset('atonicity.n.01'), Synset('automation.n.02'), Synset('brutalization.n.01'), Synset('celibacy.n.01'), Synset('circumstance.n.01'), Synset('climate.n.02'), Synset('comfort.n.01'), Synset('condemnation.n.04'), Synset('curvature.n.01'), Synset('danger.n.01'), Synset('decline.n.02'), Synset('deification.n.01'), Synset('despair.n.01'), Synset('difficulty.n.03'), Synset('discomfort.n.01'), Synset('dishabille.n.01'), Synset('disorderliness.n.01'), Synset('diversification.n.02'), Synset('diversity.n.02'), Synset('dominance.n.02'), Synset('dryness.n.01'), Synset('economic_condition.n.01'), Synset('emptiness.n.01'), Synset('encapsulation.n.01'), Synset('ennoblement.n.01'), Synset('environmental_condition.n.01'), Synset('exoneration.n.01'), Synset('eye_condition.n.01'), Synset('facilitation.n.01'), Synset('financial_condition.n.01'), Synset('frizz.n.01'), Synset('fruition.n.01'), Synset('fullness.n.03'), Synset('guilt.n.01'), Synset('hairlessness.n.01'), Synset('health.n.02'), Synset('homelessness.n.01'), Synset('hopefulness.n.01'), Synset('hospitalization.n.02'), Synset('hyalinization.n.01'), Synset('identification.n.03'), Synset('immunity.n.02'), Synset('impaction.n.01'), Synset('impropriety.n.02'), Synset('improvement.n.03'), Synset('impurity.n.02'), Synset('iniquity.n.01'), Synset('innocence.n.03'), Synset('ionization.n.01'), Synset('irradiation.n.01'), Synset('lactosuria.n.01'), Synset('laxness.n.02'), Synset('leakiness.n.01'), Synset('light.n.06'), Synset('lubrication.n.01'), Synset('malady.n.01'), Synset('mechanization.n.01'), Synset('mode.n.02'), Synset('motivation.n.02'), Synset('mummification.n.01'), Synset('mutism.n.01'), Synset('nakedness.n.01'), Synset('need.n.01'), Synset('niche.n.04'), Synset('noise_conditions.n.01'), Synset('nomination.n.02'), Synset('normality.n.01'), Synset('orderliness.n.02'), Synset('participation.n.02'), Synset('physical_condition.n.01'), Synset('place.n.13'), Synset('polarization.n.02'), Synset('prepossession.n.01'), Synset('preservation.n.02'), Synset('prognathism.n.01'), Synset('protuberance.n.02'), Synset('psychological_state.n.01'), Synset('purity.n.01'), Synset('purity.n.02'), Synset('regularization.n.01'), Synset('reinstatement.n.01'), Synset('repair.n.02'), Synset('rustication.n.01'), Synset('rustiness.n.01'), Synset('safety.n.01'), Synset('sanitary_condition.n.01'), Synset('saturation.n.03'), Synset('scandalization.n.01'), Synset('serration.n.01'), Synset('silence.n.01'), Synset('situation.n.02'), Synset('ski_conditions.n.01'), Synset('soundness.n.01'), Synset('standardization.n.01'), Synset('stigmatism.n.02'), Synset('submission.n.03'), Synset('subservience.n.01'), Synset('susceptibility.n.01'), Synset('tension.n.02'), Synset('tilth.n.01'), Synset('unsoundness.n.01'), Synset('unsusceptibility.n.01'), Synset('urbanization.n.01'), Synset('vacuolization.n.01'), Synset('virginity.n.01'), Synset('way.n.04'), Synset('wetness.n.01')]\n",
      "[Synset('activity.n.04'), Synset('resistance.n.06')]\n",
      "[Synset('underground.n.01')]\n",
      "[Synset('frigidity.n.01'), Synset('resistance.n.08')]\n",
      "[Synset('reluctance.n.02'), Synset('resistance.n.09')]\n",
      "[Synset('antenna.n.01'), Synset('attenuator.n.01'), Synset('ballast.n.05'), Synset('battery.n.02'), Synset('bimetallic_strip.n.01'), Synset('brush.n.04'), Synset('capacitor.n.01'), Synset('cell.n.03'), Synset('circuit.n.01'), Synset('control_panel.n.01'), Synset('distributor.n.04'), Synset('electrograph.n.02'), Synset('electrostatic_generator.n.01'), Synset('filter.n.02'), Synset('flasher.n.02'), Synset('fuse.n.01'), Synset('inductor.n.01'), Synset('jack.n.06'), Synset('load.n.09'), Synset('plug.n.05'), Synset('precipitator.n.01'), Synset('reactor.n.01'), Synset('rectifier.n.01'), Synset('relay.n.05'), Synset('resistor.n.01'), Synset('security_system.n.02'), Synset('segway.n.01'), Synset('solar_array.n.01'), Synset('spark_arrester.n.01'), Synset('spark_plug.n.01'), Synset('suppressor.n.03'), Synset('transducer.n.01'), Synset('transformer.n.01'), Synset('transponder.n.01'), Synset('zapper.n.01')]\n",
      "[Synset('action.n.09'), Synset('assembly.n.06'), Synset('attendance.n.01'), Synset('brainstorming.n.01'), Synset('communalism.n.01'), Synset('competition.n.03'), Synset('confederation.n.03'), Synset('conflict.n.01'), Synset('cooperation.n.01'), Synset('coup_d'etat.n.01'), Synset('decolonization.n.01'), Synset('democratization.n.01'), Synset('disbandment.n.01'), Synset('disestablishment.n.01'), Synset('due_process.n.01'), Synset('engagement.n.07'), Synset('ethnic_cleansing.n.01'), Synset('exchange.n.03'), Synset('integration.n.01'), Synset('internationalization.n.01'), Synset('legalization.n.01'), Synset('military_action.n.01'), Synset('nationalization.n.01'), Synset('non-engagement.n.01'), Synset('nonattendance.n.01'), Synset('nonresistance.n.01'), Synset('procession.n.02'), Synset('rally.n.05'), Synset('resistance.n.11'), Synset('return.n.10'), Synset('revolution.n.02'), Synset('separation.n.05'), Synset('social_activity.n.01'), Synset('social_control.n.01'), Synset('socialization.n.01'), Synset('stampede.n.01'), Synset('submission.n.02'), Synset('transaction.n.01'), Synset('vote.n.02')]\n"
     ]
    }
   ],
   "source": [
    "# This function finds the hyponyms of the hypernyms of the provided synset.\n",
    "def get_hyponyms_of_hypernyms(synset):\n",
    "    # First, get the synset's hypernyms.\n",
    "    hypernyms = get_hypernyms(synset)\n",
    "    # Then, for each hypernym, get its hyponyms and add them to the list.\n",
    "    return [hyponym for hypernym in hypernyms for hyponym in hypernym.hyponyms()]\n",
    "\n",
    "# Example usage:\n",
    "# For each synset, get the hyponyms of its hypernyms.\n",
    "for synset in resistance_synsets:\n",
    "    print(get_hyponyms_of_hypernyms(synset))"
   ]
  },
  {
   "cell_type": "markdown",
   "id": "966923bc",
   "metadata": {},
   "source": [
    "## Question 5: Write a function that takes a synset as a parameter and returns the list of hyponyms of the hyponyms of its hypernyms."
   ]
  },
  {
   "cell_type": "code",
   "execution_count": 5,
   "id": "eaf6928a",
   "metadata": {},
   "outputs": [
    {
     "name": "stdout",
     "output_type": "stream",
     "text": [
      "[Synset('accomplishment.n.01'), Synset('accomplishment.n.01'), Synset('accomplishment.n.01'), Synset('accomplishment.n.01'), Synset('accomplishment.n.01'), Synset('accomplishment.n.01'), Synset('accomplishment.n.01'), Synset('accomplishment.n.01'), Synset('accomplishment.n.01'), Synset('accomplishment.n.01'), Synset('accomplishment.n.01'), Synset('accomplishment.n.01'), Synset('accomplishment.n.01'), Synset('accomplishment.n.01'), Synset('accomplishment.n.01'), Synset('accomplishment.n.01'), Synset('accomplishment.n.01'), Synset('accomplishment.n.01'), Synset('accomplishment.n.01'), Synset('aggression.n.03'), Synset('aggression.n.03'), Synset('aggression.n.03'), Synset('arrival.n.02'), Synset('arrival.n.02'), Synset('arrival.n.02'), Synset('arrival.n.02'), Synset('arrival.n.02'), Synset('arrival.n.02'), Synset('arrival.n.02'), Synset('arrival.n.02'), Synset('change.n.03'), Synset('change.n.03'), Synset('change.n.03'), Synset('change.n.03'), Synset('change.n.03'), Synset('change.n.03'), Synset('change.n.03'), Synset('change.n.03'), Synset('change.n.03'), Synset('change.n.03'), Synset('change.n.03'), Synset('change.n.03'), Synset('change.n.03'), Synset('change.n.03'), Synset('change.n.03'), Synset('change.n.03'), Synset('change.n.03'), Synset('change.n.03'), Synset('change.n.03'), Synset('change.n.03'), Synset('change.n.03'), Synset('change.n.03'), Synset('change.n.03'), Synset('change.n.03'), Synset('change.n.03'), Synset('change.n.03'), Synset('change.n.03'), Synset('change.n.03'), Synset('change.n.03'), Synset('change.n.03'), Synset('change.n.03'), Synset('change.n.03'), Synset('change.n.03'), Synset('change.n.03'), Synset('choice.n.02'), Synset('choice.n.02'), Synset('choice.n.02'), Synset('choice.n.02'), Synset('choice.n.02'), Synset('choice.n.02'), Synset('choice.n.02'), Synset('course.n.04'), Synset('course.n.04'), Synset('course.n.04'), Synset('economy.n.04'), Synset('economy.n.04'), Synset('employment.n.03'), Synset('employment.n.03'), Synset('employment.n.03'), Synset('interaction.n.01'), Synset('interaction.n.01'), Synset('interaction.n.01'), Synset('kindness.n.03'), Synset('kindness.n.03'), Synset('kindness.n.03'), Synset('kindness.n.03'), Synset('kindness.n.03'), Synset('kindness.n.03'), Synset('performance.n.03'), Synset('performance.n.03'), Synset('performance.n.03'), Synset('performance.n.03'), Synset('play.n.17'), Synset('playing.n.02'), Synset('playing.n.02'), Synset('playing.n.02'), Synset('playing.n.02'), Synset('politeness.n.02'), Synset('politeness.n.02'), Synset('politeness.n.02'), Synset('resistance.n.01'), Synset('resistance.n.01'), Synset('resistance.n.01'), Synset('reverence.n.03'), Synset('reverence.n.03'), Synset('transfusion.n.02')]\n",
      "[Synset('inertia.n.02'), Synset('resistance.n.02'), Synset('resistance.n.02'), Synset('resistance.n.02'), Synset('sound.n.03'), Synset('trajectory.n.01'), Synset('trajectory.n.01')]\n",
      "[Synset('charge.n.04'), Synset('charge.n.04'), Synset('charge.n.04'), Synset('current.n.01'), Synset('current.n.01'), Synset('distortion.n.04'), Synset('electric_potential.n.01'), Synset('electric_potential.n.01'), Synset('electric_resistance.n.01'), Synset('induction.n.02'), Synset('induction.n.02')]\n",
      "[Synset('battle.n.01'), Synset('battle.n.01'), Synset('battle.n.01'), Synset('battle.n.01'), Synset('battle.n.01'), Synset('battle.n.01'), Synset('blockade.n.01'), Synset('blockade.n.01'), Synset('defense.n.01'), Synset('defense.n.01'), Synset('defense.n.01'), Synset('defense.n.01'), Synset('defense.n.01'), Synset('defense.n.01'), Synset('defense.n.01'), Synset('defense.n.01'), Synset('defense.n.01'), Synset('electronic_warfare.n.01'), Synset('electronic_warfare.n.01'), Synset('electronic_warfare.n.01'), Synset('electronic_warfare.n.01'), Synset('war.n.01'), Synset('war.n.01'), Synset('war.n.01'), Synset('war.n.01'), Synset('war.n.01'), Synset('war.n.01'), Synset('war.n.01'), Synset('war.n.01'), Synset('war.n.01')]\n",
      "[Synset('atmosphere.n.01'), Synset('atmosphere.n.01'), Synset('atmosphere.n.01'), Synset('atmosphere.n.01'), Synset('circumstance.n.01'), Synset('circumstance.n.01'), Synset('circumstance.n.01'), Synset('comfort.n.01'), Synset('comfort.n.01'), Synset('comfort.n.01'), Synset('comfort.n.01'), Synset('danger.n.01'), Synset('danger.n.01'), Synset('danger.n.01'), Synset('danger.n.01'), Synset('danger.n.01'), Synset('decline.n.02'), Synset('decline.n.02'), Synset('decline.n.02'), Synset('difficulty.n.03'), Synset('difficulty.n.03'), Synset('difficulty.n.03'), Synset('difficulty.n.03'), Synset('difficulty.n.03'), Synset('difficulty.n.03'), Synset('difficulty.n.03'), Synset('difficulty.n.03'), Synset('difficulty.n.03'), Synset('difficulty.n.03'), Synset('difficulty.n.03'), Synset('difficulty.n.03'), Synset('discomfort.n.01'), Synset('discomfort.n.01'), Synset('discomfort.n.01'), Synset('discomfort.n.01'), Synset('dishabille.n.01'), Synset('disorderliness.n.01'), Synset('disorderliness.n.01'), Synset('disorderliness.n.01'), Synset('disorderliness.n.01'), Synset('disorderliness.n.01'), Synset('dominance.n.02'), Synset('dominance.n.02'), Synset('dominance.n.02'), Synset('dominance.n.02'), Synset('dominance.n.02'), Synset('dominance.n.02'), Synset('dominance.n.02'), Synset('dryness.n.01'), Synset('dryness.n.01'), Synset('dryness.n.01'), Synset('dryness.n.01'), Synset('dryness.n.01'), Synset('dryness.n.01'), Synset('economic_condition.n.01'), Synset('economic_condition.n.01'), Synset('economic_condition.n.01'), Synset('economic_condition.n.01'), Synset('economic_condition.n.01'), Synset('economic_condition.n.01'), Synset('economic_condition.n.01'), Synset('emptiness.n.01'), Synset('emptiness.n.01'), Synset('emptiness.n.01'), Synset('emptiness.n.01'), Synset('environmental_condition.n.01'), Synset('environmental_condition.n.01'), Synset('environmental_condition.n.01'), Synset('environmental_condition.n.01'), Synset('environmental_condition.n.01'), Synset('environmental_condition.n.01'), Synset('environmental_condition.n.01'), Synset('environmental_condition.n.01'), Synset('eye_condition.n.01'), Synset('eye_condition.n.01'), Synset('financial_condition.n.01'), Synset('financial_condition.n.01'), Synset('financial_condition.n.01'), Synset('financial_condition.n.01'), Synset('financial_condition.n.01'), Synset('financial_condition.n.01'), Synset('financial_condition.n.01'), Synset('fullness.n.03'), Synset('fullness.n.03'), Synset('fullness.n.03'), Synset('fullness.n.03'), Synset('guilt.n.01'), Synset('guilt.n.01'), Synset('guilt.n.01'), Synset('guilt.n.01'), Synset('guilt.n.01'), Synset('guilt.n.01'), Synset('hairlessness.n.01'), Synset('homelessness.n.01'), Synset('hopefulness.n.01'), Synset('hopefulness.n.01'), Synset('immunity.n.02'), Synset('immunity.n.02'), Synset('immunity.n.02'), Synset('improvement.n.03'), Synset('improvement.n.03'), Synset('improvement.n.03'), Synset('improvement.n.03'), Synset('impurity.n.02'), Synset('impurity.n.02'), Synset('impurity.n.02'), Synset('impurity.n.02'), Synset('impurity.n.02'), Synset('impurity.n.02'), Synset('iniquity.n.01'), Synset('innocence.n.03'), Synset('innocence.n.03'), Synset('mutism.n.01'), Synset('nakedness.n.01'), Synset('nakedness.n.01'), Synset('nakedness.n.01'), Synset('nakedness.n.01'), Synset('need.n.01'), Synset('need.n.01'), Synset('normality.n.01'), Synset('normality.n.01'), Synset('normality.n.01'), Synset('orderliness.n.02'), Synset('orderliness.n.02'), Synset('orderliness.n.02'), Synset('physical_condition.n.01'), Synset('physical_condition.n.01'), Synset('physical_condition.n.01'), Synset('physical_condition.n.01'), Synset('physical_condition.n.01'), Synset('physical_condition.n.01'), Synset('physical_condition.n.01'), Synset('physical_condition.n.01'), Synset('physical_condition.n.01'), Synset('physical_condition.n.01'), Synset('physical_condition.n.01'), Synset('physical_condition.n.01'), Synset('physical_condition.n.01'), Synset('physical_condition.n.01'), Synset('physical_condition.n.01'), Synset('physical_condition.n.01'), Synset('physical_condition.n.01'), Synset('physical_condition.n.01'), Synset('physical_condition.n.01'), Synset('physical_condition.n.01'), Synset('physical_condition.n.01'), Synset('physical_condition.n.01'), Synset('physical_condition.n.01'), Synset('physical_condition.n.01'), Synset('physical_condition.n.01'), Synset('physical_condition.n.01'), Synset('physical_condition.n.01'), Synset('physical_condition.n.01'), Synset('physical_condition.n.01'), Synset('physical_condition.n.01'), Synset('physical_condition.n.01'), Synset('physical_condition.n.01'), Synset('physical_condition.n.01'), Synset('physical_condition.n.01'), Synset('physical_condition.n.01'), Synset('physical_condition.n.01'), Synset('physical_condition.n.01'), Synset('physical_condition.n.01'), Synset('physical_condition.n.01'), Synset('physical_condition.n.01'), Synset('physical_condition.n.01'), Synset('physical_condition.n.01'), Synset('physical_condition.n.01'), Synset('physical_condition.n.01'), Synset('physical_condition.n.01'), Synset('physical_condition.n.01'), Synset('physical_condition.n.01'), Synset('physical_condition.n.01'), Synset('physical_condition.n.01'), Synset('physical_condition.n.01'), Synset('physical_condition.n.01'), Synset('physical_condition.n.01'), Synset('physical_condition.n.01'), Synset('psychological_state.n.01'), Synset('psychological_state.n.01'), Synset('psychological_state.n.01'), Synset('psychological_state.n.01'), Synset('psychological_state.n.01'), Synset('psychological_state.n.01'), Synset('psychological_state.n.01'), Synset('psychological_state.n.01'), Synset('psychological_state.n.01'), Synset('psychological_state.n.01'), Synset('psychological_state.n.01'), Synset('psychological_state.n.01'), Synset('psychological_state.n.01'), Synset('psychological_state.n.01'), Synset('psychological_state.n.01'), Synset('psychological_state.n.01'), Synset('psychological_state.n.01'), Synset('psychological_state.n.01'), Synset('psychological_state.n.01'), Synset('psychological_state.n.01'), Synset('psychological_state.n.01'), Synset('psychological_state.n.01'), Synset('purity.n.01'), Synset('purity.n.02'), Synset('safety.n.01'), Synset('safety.n.01'), Synset('safety.n.01'), Synset('safety.n.01'), Synset('safety.n.01'), Synset('sanitary_condition.n.01'), Synset('sanitary_condition.n.01'), Synset('sanitary_condition.n.01'), Synset('sanitary_condition.n.01'), Synset('saturation.n.03'), Synset('situation.n.02'), Synset('situation.n.02'), Synset('situation.n.02'), Synset('situation.n.02'), Synset('soundness.n.01'), Synset('soundness.n.01'), Synset('susceptibility.n.01'), Synset('susceptibility.n.01'), Synset('susceptibility.n.01'), Synset('susceptibility.n.01'), Synset('susceptibility.n.01'), Synset('tension.n.02'), Synset('unsoundness.n.01'), Synset('unsoundness.n.01'), Synset('unsusceptibility.n.01'), Synset('wetness.n.01'), Synset('wetness.n.01'), Synset('wetness.n.01'), Synset('wetness.n.01'), Synset('wetness.n.01')]\n",
      "[]\n",
      "[Synset('underground.n.01')]\n",
      "[]\n",
      "[Synset('reluctance.n.02')]\n",
      "[Synset('antenna.n.01'), Synset('antenna.n.01'), Synset('antenna.n.01'), Synset('battery.n.02'), Synset('battery.n.02'), Synset('battery.n.02'), Synset('battery.n.02'), Synset('battery.n.02'), Synset('capacitor.n.01'), Synset('capacitor.n.01'), Synset('capacitor.n.01'), Synset('capacitor.n.01'), Synset('cell.n.03'), Synset('cell.n.03'), Synset('cell.n.03'), Synset('cell.n.03'), Synset('cell.n.03'), Synset('circuit.n.01'), Synset('circuit.n.01'), Synset('circuit.n.01'), Synset('circuit.n.01'), Synset('circuit.n.01'), Synset('circuit.n.01'), Synset('circuit.n.01'), Synset('circuit.n.01'), Synset('circuit.n.01'), Synset('circuit.n.01'), Synset('circuit.n.01'), Synset('circuit.n.01'), Synset('circuit.n.01'), Synset('circuit.n.01'), Synset('circuit.n.01'), Synset('circuit.n.01'), Synset('circuit.n.01'), Synset('control_panel.n.01'), Synset('electrostatic_generator.n.01'), Synset('filter.n.02'), Synset('filter.n.02'), Synset('fuse.n.01'), Synset('fuse.n.01'), Synset('fuse.n.01'), Synset('jack.n.06'), Synset('plug.n.05'), Synset('reactor.n.01'), Synset('rectifier.n.01'), Synset('rectifier.n.01'), Synset('resistor.n.01'), Synset('resistor.n.01'), Synset('resistor.n.01'), Synset('suppressor.n.03'), Synset('transducer.n.01'), Synset('transducer.n.01'), Synset('transducer.n.01'), Synset('transformer.n.01'), Synset('transformer.n.01'), Synset('transformer.n.01'), Synset('transformer.n.01'), Synset('transformer.n.01')]\n",
      "[Synset('assembly.n.06'), Synset('assembly.n.06'), Synset('assembly.n.06'), Synset('assembly.n.06'), Synset('assembly.n.06'), Synset('assembly.n.06'), Synset('attendance.n.01'), Synset('attendance.n.01'), Synset('attendance.n.01'), Synset('competition.n.03'), Synset('conflict.n.01'), Synset('conflict.n.01'), Synset('conflict.n.01'), Synset('conflict.n.01'), Synset('conflict.n.01'), Synset('conflict.n.01'), Synset('conflict.n.01'), Synset('conflict.n.01'), Synset('conflict.n.01'), Synset('cooperation.n.01'), Synset('cooperation.n.01'), Synset('cooperation.n.01'), Synset('cooperation.n.01'), Synset('cooperation.n.01'), Synset('cooperation.n.01'), Synset('cooperation.n.01'), Synset('cooperation.n.01'), Synset('cooperation.n.01'), Synset('cooperation.n.01'), Synset('coup_d'etat.n.01'), Synset('due_process.n.01'), Synset('due_process.n.01'), Synset('due_process.n.01'), Synset('due_process.n.01'), Synset('due_process.n.01'), Synset('due_process.n.01'), Synset('engagement.n.07'), Synset('engagement.n.07'), Synset('engagement.n.07'), Synset('exchange.n.03'), Synset('military_action.n.01'), Synset('military_action.n.01'), Synset('military_action.n.01'), Synset('military_action.n.01'), Synset('military_action.n.01'), Synset('military_action.n.01'), Synset('military_action.n.01'), Synset('military_action.n.01'), Synset('military_action.n.01'), Synset('military_action.n.01'), Synset('non-engagement.n.01'), Synset('non-engagement.n.01'), Synset('nonattendance.n.01'), Synset('nonattendance.n.01'), Synset('nonattendance.n.01'), Synset('procession.n.02'), Synset('procession.n.02'), Synset('procession.n.02'), Synset('procession.n.02'), Synset('procession.n.02'), Synset('procession.n.02'), Synset('procession.n.02'), Synset('procession.n.02'), Synset('resistance.n.11'), Synset('resistance.n.11'), Synset('resistance.n.11'), Synset('resistance.n.11'), Synset('resistance.n.11'), Synset('resistance.n.11'), Synset('resistance.n.11'), Synset('resistance.n.11'), Synset('return.n.10'), Synset('return.n.10'), Synset('return.n.10'), Synset('return.n.10'), Synset('revolution.n.02'), Synset('separation.n.05'), Synset('separation.n.05'), Synset('separation.n.05'), Synset('separation.n.05'), Synset('separation.n.05'), Synset('social_activity.n.01'), Synset('social_activity.n.01'), Synset('social_control.n.01'), Synset('social_control.n.01'), Synset('social_control.n.01'), Synset('social_control.n.01'), Synset('social_control.n.01'), Synset('social_control.n.01'), Synset('social_control.n.01'), Synset('social_control.n.01'), Synset('social_control.n.01'), Synset('social_control.n.01'), Synset('social_control.n.01'), Synset('social_control.n.01'), Synset('social_control.n.01'), Synset('social_control.n.01'), Synset('social_control.n.01'), Synset('social_control.n.01'), Synset('social_control.n.01'), Synset('social_control.n.01'), Synset('social_control.n.01'), Synset('social_control.n.01'), Synset('social_control.n.01'), Synset('social_control.n.01'), Synset('submission.n.02'), Synset('submission.n.02'), Synset('transaction.n.01'), Synset('transaction.n.01'), Synset('transaction.n.01'), Synset('transaction.n.01'), Synset('transaction.n.01'), Synset('transaction.n.01'), Synset('transaction.n.01'), Synset('transaction.n.01'), Synset('transaction.n.01'), Synset('transaction.n.01'), Synset('vote.n.02'), Synset('vote.n.02'), Synset('vote.n.02')]\n"
     ]
    }
   ],
   "source": [
    "# This function retrieves the hyponyms of the hyponyms of the hypernyms of the given synset.\n",
    "def get_hyponyms_of_hyponyms_of_hypernyms(synset):\n",
    "    # Get the hyponyms of the synset's hypernyms.\n",
    "    hyponyms_of_hypernyms = get_hyponyms_of_hypernyms(synset)\n",
    "    # For each of these hyponyms, get their hyponyms and add them to the list.\n",
    "    return [hyponym for hyponym in hyponyms_of_hypernyms for sub_hyponym in hyponym.hyponyms()]\n",
    "\n",
    "# Example usage:\n",
    "# For each synset, find the hyponyms of the hyponyms of its hypernyms.\n",
    "for synset in resistance_synsets:\n",
    "    print(get_hyponyms_of_hyponyms_of_hypernyms(synset))"
   ]
  },
  {
   "cell_type": "markdown",
   "id": "2998def5",
   "metadata": {},
   "source": [
    "## Question 6: Write a function called voisins that takes a synset as a parameter and returns the union of its hypernyms, the hyponyms of its hypernyms, and the hyponyms of the hyponyms of its hypernyms."
   ]
  },
  {
   "cell_type": "code",
   "execution_count": 8,
   "id": "0e658b87",
   "metadata": {},
   "outputs": [
    {
     "name": "stdout",
     "output_type": "stream",
     "text": [
      "[Synset('choice.n.02'), Synset('course.n.04'), Synset('play.n.17'), Synset('economy.n.04'), Synset('prohibition.n.05'), Synset('arrival.n.02'), Synset('pickings.n.01'), Synset('beatification.n.02'), Synset('employment.n.03'), Synset('res_gestae.n.02'), Synset('kindness.n.03'), Synset('alienation.n.04'), Synset('application.n.07'), Synset('bruxism.n.01'), Synset('interaction.n.01'), Synset('transfusion.n.02'), Synset('stupefaction.n.03'), Synset('transgression.n.03'), Synset('performance.n.03'), Synset('jumpstart.n.01'), Synset('reference.n.07'), Synset('politeness.n.02'), Synset('action.n.01'), Synset('reverence.n.03'), Synset('fetch.n.01'), Synset('resistance.n.01'), Synset('change.n.03'), Synset('destabilization.n.02'), Synset('aggression.n.03'), Synset('accomplishment.n.01'), Synset('emphasizing.n.01'), Synset('thing.n.02'), Synset('playing.n.02'), Synset('vampirism.n.02')]\n",
      "[Synset('sound.n.03'), Synset('mechanical_phenomenon.n.01'), Synset('leverage.n.01'), Synset('inertia.n.02'), Synset('trajectory.n.01'), Synset('resistance.n.02')]\n",
      "[Synset('reluctance.n.01'), Synset('dielectric_heating.n.01'), Synset('current.n.01'), Synset('pyroelectricity.n.01'), Synset('electrical_disturbance.n.01'), Synset('electric_resistance.n.01'), Synset('skin_effect.n.01'), Synset('amperage.n.01'), Synset('electrical_phenomenon.n.01'), Synset('charge.n.04'), Synset('conductance.n.01'), Synset('capacitance.n.01'), Synset('reactance.n.01'), Synset('electric_potential.n.01'), Synset('induction.n.02'), Synset('distortion.n.04'), Synset('elastance.n.01'), Synset('voltage.n.01')]\n",
      "[Synset('saber_rattling.n.01'), Synset('battle.n.01'), Synset('sortie.n.01'), Synset('blockade.n.01'), Synset('amphibious_landing.n.01'), Synset('defense.n.01'), Synset('war.n.01'), Synset('military_action.n.01'), Synset('police_action.n.01'), Synset('resistance.n.04'), Synset('electronic_warfare.n.01')]\n",
      "[Synset('prepossession.n.01'), Synset('situation.n.02'), Synset('improvement.n.03'), Synset('unsusceptibility.n.01'), Synset('niche.n.04'), Synset('subservience.n.01'), Synset('dishabille.n.01'), Synset('orderliness.n.02'), Synset('motivation.n.02'), Synset('safety.n.01'), Synset('guilt.n.01'), Synset('disorderliness.n.01'), Synset('preservation.n.02'), Synset('condemnation.n.04'), Synset('nomination.n.02'), Synset('submission.n.03'), Synset('deification.n.01'), Synset('repair.n.02'), Synset('mummification.n.01'), Synset('leakiness.n.01'), Synset('way.n.04'), Synset('purity.n.01'), Synset('place.n.13'), Synset('brutalization.n.01'), Synset('protuberance.n.02'), Synset('sanitary_condition.n.01'), Synset('serration.n.01'), Synset('economic_condition.n.01'), Synset('climate.n.02'), Synset('atonicity.n.01'), Synset('rustiness.n.01'), Synset('eye_condition.n.01'), Synset('decline.n.02'), Synset('exoneration.n.01'), Synset('environmental_condition.n.01'), Synset('circumstance.n.01'), Synset('noise_conditions.n.01'), Synset('automation.n.02'), Synset('wetness.n.01'), Synset('atmosphere.n.01'), Synset('mode.n.02'), Synset('mechanization.n.01'), Synset('mutism.n.01'), Synset('standardization.n.01'), Synset('regularization.n.01'), Synset('fullness.n.03'), Synset('fruition.n.01'), Synset('innocence.n.03'), Synset('ski_conditions.n.01'), Synset('ennoblement.n.01'), Synset('silence.n.01'), Synset('susceptibility.n.01'), Synset('impaction.n.01'), Synset('emptiness.n.01'), Synset('reinstatement.n.01'), Synset('discomfort.n.01'), Synset('psychological_state.n.01'), Synset('hairlessness.n.01'), Synset('curvature.n.01'), Synset('lactosuria.n.01'), Synset('despair.n.01'), Synset('malady.n.01'), Synset('diversification.n.02'), Synset('iniquity.n.01'), Synset('astigmatism.n.02'), Synset('purity.n.02'), Synset('health.n.02'), Synset('anchorage.n.01'), Synset('participation.n.02'), Synset('rustication.n.01'), Synset('absolution.n.01'), Synset('difficulty.n.03'), Synset('tension.n.02'), Synset('urbanization.n.01'), Synset('hyalinization.n.01'), Synset('homelessness.n.01'), Synset('saturation.n.03'), Synset('irradiation.n.01'), Synset('virginity.n.01'), Synset('identification.n.03'), Synset('unsoundness.n.01'), Synset('need.n.01'), Synset('scandalization.n.01'), Synset('financial_condition.n.01'), Synset('comfort.n.01'), Synset('normality.n.01'), Synset('diversity.n.02'), Synset('light.n.06'), Synset('ionization.n.01'), Synset('dominance.n.02'), Synset('condition.n.01'), Synset('vacuolization.n.01'), Synset('encapsulation.n.01'), Synset('celibacy.n.01'), Synset('danger.n.01'), Synset('prognathism.n.01'), Synset('nakedness.n.01'), Synset('frizz.n.01'), Synset('hopefulness.n.01'), Synset('physical_condition.n.01'), Synset('impropriety.n.02'), Synset('immunity.n.02'), Synset('soundness.n.01'), Synset('impurity.n.02'), Synset('dryness.n.01'), Synset('tilth.n.01'), Synset('laxness.n.02'), Synset('stigmatism.n.02'), Synset('lubrication.n.01'), Synset('facilitation.n.01'), Synset('polarization.n.02'), Synset('hospitalization.n.02')]\n",
      "[Synset('resistance.n.06'), Synset('activity.n.04'), Synset('capability.n.02')]\n",
      "[Synset('revolutionary_group.n.01'), Synset('underground.n.01')]\n",
      "[Synset('unresponsiveness.n.01'), Synset('resistance.n.08'), Synset('frigidity.n.01')]\n",
      "[Synset('resistance.n.09'), Synset('reluctance.n.02'), Synset('unwillingness.n.01')]\n",
      "[Synset('electrostatic_generator.n.01'), Synset('spark_arrester.n.01'), Synset('cell.n.03'), Synset('relay.n.05'), Synset('fuse.n.01'), Synset('transponder.n.01'), Synset('precipitator.n.01'), Synset('jack.n.06'), Synset('rectifier.n.01'), Synset('spark_plug.n.01'), Synset('solar_array.n.01'), Synset('resistor.n.01'), Synset('antenna.n.01'), Synset('flasher.n.02'), Synset('transformer.n.01'), Synset('filter.n.02'), Synset('brush.n.04'), Synset('control_panel.n.01'), Synset('reactor.n.01'), Synset('bimetallic_strip.n.01'), Synset('capacitor.n.01'), Synset('ballast.n.05'), Synset('segway.n.01'), Synset('suppressor.n.03'), Synset('plug.n.05'), Synset('transducer.n.01'), Synset('electrograph.n.02'), Synset('zapper.n.01'), Synset('electrical_device.n.01'), Synset('security_system.n.02'), Synset('battery.n.02'), Synset('attenuator.n.01'), Synset('circuit.n.01'), Synset('inductor.n.01'), Synset('load.n.09'), Synset('distributor.n.04')]\n",
      "[Synset('due_process.n.01'), Synset('vote.n.02'), Synset('socialization.n.01'), Synset('confederation.n.03'), Synset('nonattendance.n.01'), Synset('attendance.n.01'), Synset('return.n.10'), Synset('transaction.n.01'), Synset('assembly.n.06'), Synset('military_action.n.01'), Synset('group_action.n.01'), Synset('legalization.n.01'), Synset('non-engagement.n.01'), Synset('resistance.n.11'), Synset('nonresistance.n.01'), Synset('democratization.n.01'), Synset('submission.n.02'), Synset('internationalization.n.01'), Synset('rally.n.05'), Synset('brainstorming.n.01'), Synset('disestablishment.n.01'), Synset('social_activity.n.01'), Synset('action.n.09'), Synset('coup_d'etat.n.01'), Synset('social_control.n.01'), Synset('cooperation.n.01'), Synset('exchange.n.03'), Synset('procession.n.02'), Synset('nationalization.n.01'), Synset('communalism.n.01'), Synset('engagement.n.07'), Synset('ethnic_cleansing.n.01'), Synset('competition.n.03'), Synset('conflict.n.01'), Synset('integration.n.01'), Synset('separation.n.05'), Synset('disbandment.n.01'), Synset('stampede.n.01'), Synset('revolution.n.02'), Synset('decolonization.n.01')]\n"
     ]
    }
   ],
   "source": [
    "# This function creates a union of three sets: the synset's hypernyms, the hyponyms of those hypernyms,\n",
    "# and the hyponyms of those hyponyms.\n",
    "def get_neighbors(synset):\n",
    "    # Use set to avoid duplicate synsets.\n",
    "    neighbors = set()\n",
    "    # Update the set with hypernyms, hyponyms of hypernyms, and their hyponyms.\n",
    "    neighbors.update(get_hypernyms(synset))\n",
    "    neighbors.update(get_hyponyms_of_hypernyms(synset))\n",
    "    neighbors.update(get_hyponyms_of_hyponyms_of_hypernyms(synset))\n",
    "    # Convert back to a list before returning.\n",
    "    return list(neighbors)\n",
    "\n",
    "# Example usage:\n",
    "# For each synset, get its 'neighbors' as per the definition given.\n",
    "for synset in resistance_synsets:\n",
    "    print(get_neighbors(synset))"
   ]
  },
  {
   "cell_type": "code",
   "execution_count": null,
   "id": "1044adec",
   "metadata": {},
   "outputs": [],
   "source": []
  }
 ],
 "metadata": {
  "kernelspec": {
   "display_name": "Python 3 (ipykernel)",
   "language": "python",
   "name": "python3"
  },
  "language_info": {
   "codemirror_mode": {
    "name": "ipython",
    "version": 3
   },
   "file_extension": ".py",
   "mimetype": "text/x-python",
   "name": "python",
   "nbconvert_exporter": "python",
   "pygments_lexer": "ipython3",
   "version": "3.10.9"
  }
 },
 "nbformat": 4,
 "nbformat_minor": 5
}
